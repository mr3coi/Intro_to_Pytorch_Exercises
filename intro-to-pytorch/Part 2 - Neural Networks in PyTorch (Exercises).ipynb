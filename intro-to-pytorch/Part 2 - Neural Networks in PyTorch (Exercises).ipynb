{
 "cells": [
  {
   "cell_type": "markdown",
   "metadata": {},
   "source": [
    "# Neural networks with PyTorch\n",
    "\n",
    "Deep learning networks tend to be massive with dozens or hundreds of layers, that's where the term \"deep\" comes from. You can build one of these deep networks using only weight matrices as we did in the previous notebook, but in general it's very cumbersome and difficult to implement. PyTorch has a nice module `nn` that provides a nice way to efficiently build large neural networks."
   ]
  },
  {
   "cell_type": "code",
   "execution_count": 2,
   "metadata": {},
   "outputs": [
    {
     "name": "stderr",
     "output_type": "stream",
     "text": [
      "/Users/SJC/Documents/practice/.pytorch_env/lib/python3.6/site-packages/matplotlib/font_manager.py:232: UserWarning: Matplotlib is building the font cache using fc-list. This may take a moment.\n",
      "  'Matplotlib is building the font cache using fc-list. '\n"
     ]
    }
   ],
   "source": [
    "# Import necessary packages\n",
    "\n",
    "%matplotlib inline\n",
    "%config InlineBackend.figure_format = 'retina'\n",
    "\n",
    "import numpy as np\n",
    "import torch\n",
    "\n",
    "import helper\n",
    "\n",
    "import matplotlib.pyplot as plt"
   ]
  },
  {
   "cell_type": "markdown",
   "metadata": {},
   "source": [
    "\n",
    "Now we're going to build a larger network that can solve a (formerly) difficult problem, identifying text in an image. Here we'll use the MNIST dataset which consists of greyscale handwritten digits. Each image is 28x28 pixels, you can see a sample below\n",
    "\n",
    "<img src='assets/mnist.png'>\n",
    "\n",
    "Our goal is to build a neural network that can take one of these images and predict the digit in the image.\n",
    "\n",
    "First up, we need to get our dataset. This is provided through the `torchvision` package. The code below will download the MNIST dataset, then create training and test datasets for us. Don't worry too much about the details here, you'll learn more about this later."
   ]
  },
  {
   "cell_type": "code",
   "execution_count": 3,
   "metadata": {},
   "outputs": [
    {
     "name": "stdout",
     "output_type": "stream",
     "text": [
      "Downloading http://yann.lecun.com/exdb/mnist/train-images-idx3-ubyte.gz\n",
      "Downloading http://yann.lecun.com/exdb/mnist/train-labels-idx1-ubyte.gz\n",
      "Downloading http://yann.lecun.com/exdb/mnist/t10k-images-idx3-ubyte.gz\n",
      "Downloading http://yann.lecun.com/exdb/mnist/t10k-labels-idx1-ubyte.gz\n",
      "Processing...\n",
      "Done!\n"
     ]
    }
   ],
   "source": [
    "### Run this cell\n",
    "\n",
    "from torchvision import datasets, transforms\n",
    "\n",
    "# Define a transform to normalize the data\n",
    "transform = transforms.Compose([transforms.ToTensor(),\n",
    "                              transforms.Normalize((0.5,), (0.5,)),\n",
    "                              ])\n",
    "\n",
    "# Download and load the training data\n",
    "trainset = datasets.MNIST('~/.pytorch/MNIST_data/', download=True, train=True, transform=transform)\n",
    "trainloader = torch.utils.data.DataLoader(trainset, batch_size=64, shuffle=True)"
   ]
  },
  {
   "cell_type": "markdown",
   "metadata": {},
   "source": [
    "We have the training data loaded into `trainloader` and we make that an iterator with `iter(trainloader)`. Later, we'll use this to loop through the dataset for training, like\n",
    "\n",
    "```python\n",
    "for image, label in trainloader:\n",
    "    ## do things with images and labels\n",
    "```\n",
    "\n",
    "You'll notice I created the `trainloader` with a batch size of 64, and `shuffle=True`. The batch size is the number of images we get in one iteration from the data loader and pass through our network, often called a *batch*. And `shuffle=True` tells it to shuffle the dataset every time we start going through the data loader again. But here I'm just grabbing the first batch so we can check out the data. We can see below that `images` is just a tensor with size `(64, 1, 28, 28)`. So, 64 images per batch, 1 color channel, and 28x28 images."
   ]
  },
  {
   "cell_type": "code",
   "execution_count": 4,
   "metadata": {},
   "outputs": [
    {
     "name": "stdout",
     "output_type": "stream",
     "text": [
      "<class 'torch.Tensor'>\n",
      "torch.Size([64, 1, 28, 28])\n",
      "torch.Size([64])\n"
     ]
    }
   ],
   "source": [
    "dataiter = iter(trainloader)\n",
    "images, labels = dataiter.next()\n",
    "print(type(images))\n",
    "print(images.shape)\n",
    "print(labels.shape)"
   ]
  },
  {
   "cell_type": "markdown",
   "metadata": {},
   "source": [
    "This is what one of the images looks like. "
   ]
  },
  {
   "cell_type": "code",
   "execution_count": 5,
   "metadata": {},
   "outputs": [
    {
     "data": {
      "image/png": "[encoded data removed]",
      "text/plain": [
       "<Figure size 432x288 with 1 Axes>"
      ]
     },
     "metadata": {
      "image/png": {
       "height": 250,
       "width": 253
      },
      "needs_background": "light"
     },
     "output_type": "display_data"
    }
   ],
   "source": [
    "plt.imshow(images[1].numpy().squeeze(), cmap='Greys_r');"
   ]
  },
  {
   "cell_type": "markdown",
   "metadata": {},
   "source": [
    "First, let's try to build a simple network for this dataset using weight matrices and matrix multiplications. Then, we'll see how to do it using PyTorch's `nn` module which provides a much more convenient and powerful method for defining network architectures.\n",
    "\n",
    "The networks you've seen so far are called *fully-connected* or *dense* networks. Each unit in one layer is connected to each unit in the next layer. In fully-connected networks, the input to each layer must be a one-dimensional vector (which can be stacked into a 2D tensor as a batch of multiple examples). However, our images are 28x28 2D tensors, so we need to convert them into 1D vectors. Thinking about sizes, we need to convert the batch of images with shape `(64, 1, 28, 28)` to a have a shape of `(64, 784)`, 784 is 28 times 28. This is typically called *flattening*, we flattened the 2D images into 1D vectors.\n",
    "\n",
    "Previously you built a network with one output unit. Here we need 10 output units, one for each digit. We want our network to predict the digit shown in an image, so what we'll do is calculate probabilities that the image is of any one digit or class. This ends up being a discrete probability distribution over the classes (digits) that tells us the most likely class for the image. That means we need 10 output units for the 10 classes (digits). We'll see how to convert the network output into a probability distribution next.\n",
    "\n",
    "> **Exercise:** Flatten the batch of images `images`. Then build a multi-layer network with 784 input units, 256 hidden units, and 10 output units using random tensors for the weights and biases. For now, use a sigmoid activation for the hidden layer. Leave the output layer without an activation, we'll add one that gives us a probability distribution next."
   ]
  },
  {
   "cell_type": "code",
   "execution_count": 21,
   "metadata": {},
   "outputs": [
    {
     "name": "stdout",
     "output_type": "stream",
     "text": [
      "tensor([[3.1368e-04, 8.8611e-08, 5.3708e-06, 9.9979e-01, 4.6817e-03, 8.9956e-11,\n",
      "         1.0000e+00, 8.9323e-05, 1.0000e+00, 1.0000e+00],\n",
      "        [2.7403e-11, 1.1447e-04, 1.0000e+00, 1.0000e+00, 6.0761e-15, 2.9502e-01,\n",
      "         1.0000e+00, 9.9867e-01, 1.3839e-04, 1.0000e+00],\n",
      "        [1.8603e-05, 9.9937e-01, 1.0000e+00, 1.0000e+00, 7.1723e-19, 1.1905e-05,\n",
      "         5.6184e-04, 1.4366e-03, 1.0000e+00, 1.0000e+00],\n",
      "        [1.2937e-05, 3.8606e-06, 9.9518e-01, 9.9983e-01, 1.8900e-06, 5.2902e-05,\n",
      "         5.7861e-01, 1.1153e-04, 1.0000e+00, 1.0000e+00],\n",
      "        [1.8546e-03, 9.9103e-01, 3.9941e-07, 1.0000e+00, 1.8333e-14, 2.7994e-06,\n",
      "         1.0000e+00, 9.9940e-01, 1.0000e+00, 9.9997e-01],\n",
      "        [1.0000e+00, 9.3999e-01, 2.5634e-03, 9.9968e-01, 9.6972e-01, 9.9598e-01,\n",
      "         1.0000e+00, 1.6282e-06, 1.2254e-03, 1.0000e+00],\n",
      "        [2.3171e-06, 8.2931e-01, 1.6161e-02, 9.9999e-01, 4.1042e-18, 4.2244e-06,\n",
      "         3.5509e-08, 2.3861e-04, 1.0000e+00, 1.0000e+00],\n",
      "        [3.0633e-05, 8.4131e-10, 5.2083e-05, 9.9993e-01, 1.6756e-13, 3.0719e-08,\n",
      "         6.6303e-09, 4.7352e-11, 1.0000e+00, 1.0000e+00],\n",
      "        [9.8294e-06, 1.0000e+00, 1.0000e+00, 9.9998e-01, 3.0388e-18, 9.0196e-12,\n",
      "         9.3213e-01, 1.0000e+00, 9.9970e-01, 1.0000e+00],\n",
      "        [1.1895e-07, 2.6467e-01, 1.0000e+00, 4.2198e-01, 8.5886e-13, 7.7556e-09,\n",
      "         3.1768e-01, 7.6163e-01, 1.0000e+00, 1.0000e+00],\n",
      "        [1.6062e-05, 9.9303e-01, 2.0970e-02, 1.0000e+00, 1.2736e-13, 1.0000e+00,\n",
      "         9.9974e-01, 1.3189e-09, 1.0000e+00, 1.0000e+00],\n",
      "        [9.9978e-01, 9.9993e-01, 4.5677e-12, 9.3847e-01, 5.6544e-15, 9.9991e-01,\n",
      "         1.0000e+00, 8.4092e-01, 7.8173e-01, 9.9999e-01],\n",
      "        [2.3419e-10, 9.9999e-01, 2.2998e-08, 1.0000e+00, 2.8986e-06, 9.9993e-01,\n",
      "         1.0000e+00, 1.0000e+00, 9.8330e-01, 1.0000e+00],\n",
      "        [3.9792e-09, 3.2586e-03, 1.0000e+00, 9.8110e-01, 1.8577e-02, 3.3130e-03,\n",
      "         1.0000e+00, 7.0513e-01, 1.0000e+00, 4.2971e-02],\n",
      "        [3.4574e-07, 2.7992e-01, 1.5100e-04, 9.8512e-01, 1.3630e-10, 1.6931e-05,\n",
      "         1.5996e-06, 1.4574e-10, 1.0000e+00, 1.0000e+00],\n",
      "        [8.1658e-08, 9.8367e-01, 1.3633e-01, 9.9996e-01, 1.1226e-26, 9.9996e-01,\n",
      "         1.4817e-08, 2.2528e-03, 1.0000e+00, 1.0000e+00],\n",
      "        [1.0841e-10, 2.1944e-01, 2.8344e-01, 8.5839e-01, 3.1936e-03, 2.2490e-17,\n",
      "         1.9351e-07, 1.0000e+00, 1.0000e+00, 1.0000e+00],\n",
      "        [1.1070e-03, 8.5876e-01, 3.5268e-05, 9.9999e-01, 8.7393e-15, 4.1587e-06,\n",
      "         2.1710e-08, 1.8990e-06, 1.0000e+00, 1.0000e+00],\n",
      "        [1.0000e+00, 1.0000e+00, 9.2413e-05, 1.0000e+00, 3.9778e-20, 1.0000e+00,\n",
      "         1.0000e+00, 6.9265e-13, 2.0693e-01, 4.2627e-01],\n",
      "        [9.8518e-01, 9.9998e-01, 2.3022e-07, 1.0000e+00, 1.8626e-12, 3.5204e-04,\n",
      "         1.0000e+00, 1.0000e+00, 1.0000e+00, 1.0000e+00],\n",
      "        [5.6109e-05, 5.3469e-01, 4.3036e-14, 9.1765e-01, 8.8472e-14, 1.2129e-03,\n",
      "         1.0000e+00, 1.0000e+00, 1.0000e+00, 1.0000e+00],\n",
      "        [1.2422e-09, 1.0000e+00, 3.7572e-04, 1.0000e+00, 2.7724e-10, 1.0000e+00,\n",
      "         1.0000e+00, 3.5482e-04, 1.0000e+00, 1.0000e+00],\n",
      "        [2.2253e-06, 1.1383e-04, 8.6281e-01, 1.0000e+00, 1.3911e-18, 1.0256e-04,\n",
      "         6.6603e-06, 2.6457e-07, 1.0000e+00, 1.0000e+00],\n",
      "        [1.4941e-12, 1.0000e+00, 1.0000e+00, 9.9990e-01, 9.8173e-02, 7.7380e-01,\n",
      "         1.0000e+00, 3.3423e-01, 1.0000e+00, 1.0000e+00],\n",
      "        [4.0888e-06, 9.9989e-01, 1.6141e-01, 1.0000e+00, 4.9524e-16, 1.0000e+00,\n",
      "         9.3280e-01, 3.7709e-05, 1.0000e+00, 1.0000e+00],\n",
      "        [1.5509e-03, 6.4279e-01, 7.9418e-01, 9.9957e-01, 6.6440e-12, 1.3454e-20,\n",
      "         9.9221e-01, 7.5426e-01, 2.1182e-06, 1.0000e+00],\n",
      "        [1.0000e+00, 9.9890e-01, 1.6608e-11, 5.5934e-02, 5.0354e-19, 1.8486e-04,\n",
      "         1.0000e+00, 6.1580e-01, 1.0000e+00, 1.0000e+00],\n",
      "        [1.6801e-06, 1.0000e+00, 5.6170e-03, 9.9136e-01, 1.3198e-17, 2.7678e-04,\n",
      "         1.0000e+00, 2.9364e-01, 1.1952e-01, 1.0000e+00],\n",
      "        [2.0689e-03, 7.2019e-01, 1.0800e-04, 1.0000e+00, 3.9826e-11, 1.0000e+00,\n",
      "         6.8510e-12, 3.5627e-04, 1.0000e+00, 1.0000e+00],\n",
      "        [2.2170e-01, 1.8918e-08, 7.4080e-09, 8.3453e-01, 2.0729e-12, 5.2275e-03,\n",
      "         2.1708e-12, 1.3348e-05, 1.0000e+00, 1.0000e+00],\n",
      "        [9.9992e-01, 1.0000e+00, 2.5164e-02, 1.0000e+00, 2.1056e-10, 9.9945e-01,\n",
      "         1.0000e+00, 8.0490e-06, 1.5019e-01, 1.0000e+00],\n",
      "        [2.9400e-07, 9.5946e-04, 1.0000e+00, 7.7581e-01, 8.1701e-07, 1.9903e-12,\n",
      "         3.4518e-08, 4.9940e-06, 9.9995e-01, 1.0000e+00],\n",
      "        [7.7144e-16, 9.9555e-01, 2.3211e-04, 9.9988e-01, 3.8252e-16, 1.1387e-16,\n",
      "         1.9877e-03, 3.8666e-01, 1.0000e+00, 1.0000e+00],\n",
      "        [2.3474e-03, 1.1648e-10, 1.3631e-03, 9.9998e-01, 4.7212e-05, 1.7811e-02,\n",
      "         3.3756e-03, 1.6495e-11, 1.0000e+00, 1.0000e+00],\n",
      "        [9.9996e-01, 1.0000e+00, 9.9937e-01, 1.0000e+00, 9.9149e-04, 5.2548e-13,\n",
      "         2.0038e-08, 5.8066e-11, 9.9805e-01, 9.7823e-01],\n",
      "        [2.1532e-05, 1.1183e-10, 6.0957e-01, 9.9558e-01, 2.1227e-09, 2.8901e-19,\n",
      "         1.0000e+00, 1.2871e-01, 9.9943e-01, 1.0000e+00],\n",
      "        [5.0114e-10, 9.8178e-01, 1.0000e+00, 1.0000e+00, 4.2547e-05, 8.3399e-11,\n",
      "         1.0000e+00, 9.9768e-01, 1.0000e+00, 1.0000e+00],\n",
      "        [5.8428e-07, 2.2191e-06, 4.1022e-04, 9.9999e-01, 7.8541e-09, 3.8999e-02,\n",
      "         1.4526e-01, 6.3925e-04, 9.9998e-01, 1.0000e+00],\n",
      "        [2.5174e-12, 9.9994e-01, 1.0000e+00, 7.3079e-01, 2.2550e-11, 2.5063e-10,\n",
      "         3.1275e-03, 6.2492e-04, 1.0000e+00, 9.9999e-01],\n",
      "        [8.6030e-08, 9.4346e-01, 9.9549e-01, 2.9338e-02, 1.8076e-18, 1.0771e-04,\n",
      "         6.0993e-03, 2.2010e-04, 9.9921e-01, 1.0000e+00],\n",
      "        [3.9040e-09, 9.9974e-01, 4.9325e-01, 8.9368e-01, 8.7941e-21, 6.0868e-15,\n",
      "         2.2461e-01, 1.0000e+00, 1.0000e+00, 1.0000e+00],\n",
      "        [1.0764e-04, 1.0000e+00, 4.6701e-17, 5.5391e-04, 7.3332e-14, 1.0000e+00,\n",
      "         1.0000e+00, 3.8070e-01, 1.0000e+00, 1.0000e+00],\n",
      "        [3.9676e-10, 9.9981e-01, 1.0000e+00, 1.0000e+00, 2.8752e-11, 1.6137e-03,\n",
      "         9.9891e-01, 3.0556e-10, 8.1328e-01, 1.0000e+00],\n",
      "        [1.7617e-01, 9.9645e-01, 9.9992e-01, 1.0000e+00, 7.2135e-10, 4.4347e-09,\n",
      "         8.0058e-01, 4.0546e-08, 7.4928e-04, 1.0000e+00],\n",
      "        [1.3568e-03, 1.1197e-02, 1.2263e-01, 1.0000e+00, 2.2051e-13, 1.1455e-09,\n",
      "         2.3349e-05, 1.2963e-08, 9.9975e-01, 1.0000e+00],\n",
      "        [6.5943e-12, 1.0000e+00, 3.6365e-01, 3.3237e-03, 7.5760e-10, 1.4314e-08,\n",
      "         1.0000e+00, 1.0000e+00, 9.9677e-01, 1.0000e+00],\n",
      "        [9.9971e-01, 8.3065e-01, 4.0032e-01, 1.0000e+00, 2.4427e-05, 2.8237e-04,\n",
      "         1.0000e+00, 9.9931e-01, 9.9999e-01, 1.0000e+00],\n",
      "        [1.4074e-01, 9.9996e-01, 1.0000e+00, 1.0000e+00, 1.2336e-03, 7.0809e-06,\n",
      "         8.7514e-03, 2.5907e-05, 2.0736e-04, 1.0000e+00],\n",
      "        [2.6868e-10, 1.3280e-06, 1.0000e+00, 7.2593e-01, 2.7258e-03, 2.1474e-13,\n",
      "         2.1681e-03, 9.9921e-01, 1.0000e+00, 1.0000e+00],\n",
      "        [2.5135e-03, 6.9633e-12, 1.0000e+00, 1.0000e+00, 3.5426e-18, 1.1711e-05,\n",
      "         2.3180e-10, 5.5627e-03, 1.0000e+00, 1.0000e+00],\n",
      "        [1.0000e+00, 5.1677e-04, 1.3784e-02, 1.0000e+00, 2.8538e-13, 9.9772e-01,\n",
      "         3.3166e-13, 2.8189e-03, 6.7461e-02, 1.0000e+00],\n",
      "        [2.1423e-02, 3.8479e-08, 2.0655e-03, 9.9996e-01, 1.4599e-13, 5.2085e-12,\n",
      "         1.3202e-11, 6.7619e-09, 1.0000e+00, 1.0000e+00],\n",
      "        [7.9860e-09, 1.0497e-09, 8.4010e-12, 1.0000e+00, 5.9483e-06, 1.0812e-12,\n",
      "         9.7381e-01, 1.2531e-03, 9.9997e-01, 1.0000e+00],\n",
      "        [7.8797e-06, 2.1405e-06, 9.9996e-01, 9.9993e-01, 1.4130e-10, 2.3864e-09,\n",
      "         7.0977e-03, 4.1675e-01, 1.0000e+00, 1.0000e+00],\n",
      "        [9.9933e-01, 3.1260e-11, 9.9983e-01, 1.4804e-04, 1.8303e-12, 3.7701e-01,\n",
      "         1.0000e+00, 6.4945e-07, 1.0000e+00, 1.0000e+00],\n",
      "        [9.1799e-07, 9.9999e-01, 5.3334e-04, 9.9889e-01, 4.3963e-15, 9.7583e-01,\n",
      "         1.0000e+00, 5.5236e-03, 1.0000e+00, 1.0000e+00],\n",
      "        [9.9999e-01, 9.5111e-02, 6.1359e-03, 9.9999e-01, 3.0479e-08, 1.8944e-04,\n",
      "         9.8778e-01, 1.0917e-02, 1.0000e+00, 1.0000e+00],\n",
      "        [1.1734e-11, 2.8304e-05, 3.2343e-02, 2.4934e-08, 3.8989e-05, 2.0374e-14,\n",
      "         1.0000e+00, 9.1143e-01, 1.0000e+00, 9.9987e-01],\n",
      "        [1.0000e+00, 1.0000e+00, 1.3456e-15, 1.0000e+00, 1.2775e-10, 2.9057e-11,\n",
      "         2.2954e-02, 3.4443e-09, 7.6844e-02, 4.1499e-11],\n",
      "        [6.7549e-17, 7.9213e-11, 9.9997e-01, 9.9916e-01, 6.2023e-07, 1.3183e-15,\n",
      "         5.8720e-03, 9.9900e-01, 1.0000e+00, 1.0000e+00],\n",
      "        [1.6325e-07, 6.6182e-01, 1.9262e-01, 1.0000e+00, 2.0299e-11, 1.5490e-09,\n",
      "         3.9590e-06, 1.0000e+00, 1.5093e-02, 1.0000e+00],\n",
      "        [5.1326e-04, 2.3114e-11, 9.9996e-01, 1.0000e+00, 1.1547e-22, 3.3450e-12,\n",
      "         1.0000e+00, 1.0000e+00, 3.9692e-02, 9.7235e-01],\n",
      "        [5.0603e-05, 6.5412e-02, 2.4614e-01, 1.0000e+00, 4.6057e-05, 1.0688e-28,\n",
      "         8.5011e-01, 9.9973e-01, 9.9777e-01, 9.9997e-01],\n",
      "        [1.3817e-10, 2.5437e-01, 9.9856e-01, 1.0000e+00, 6.2996e-11, 4.3407e-18,\n",
      "         2.9277e-03, 9.9723e-01, 1.0000e+00, 1.0000e+00]])\n",
      "torch.Size([64, 10])\n"
     ]
    }
   ],
   "source": [
    "## Your solution\n",
    "def sigmoid(x):\n",
    "    return 1/(1+torch.exp(-x))\n",
    "\n",
    "features = images.view([images.shape[0],-1])\n",
    "n_input = 784\n",
    "n_output = 10\n",
    "W = torch.randn([n_input,n_output])\n",
    "B = torch.randn([n_output])\n",
    "\n",
    "out = sigmoid(torch.mm(features,W)+B)\n",
    "print(out)\n",
    "print(out.shape)"
   ]
  },
  {
   "cell_type": "markdown",
   "metadata": {},
   "source": [
    "Now we have 10 outputs for our network. We want to pass in an image to our network and get out a probability distribution over the classes that tells us the likely class(es) the image belongs to. Something that looks like this:\n",
    "<img src='assets/image_distribution.png' width=500px>\n",
    "\n",
    "Here we see that the probability for each class is roughly the same. This is representing an untrained network, it hasn't seen any data yet so it just returns a uniform distribution with equal probabilities for each class.\n",
    "\n",
    "To calculate this probability distribution, we often use the [**softmax** function](https://en.wikipedia.org/wiki/Softmax_function). Mathematically this looks like\n",
    "\n",
    "$$\n",
    "\\Large \\sigma(x_i) = \\cfrac{e^{x_i}}{\\sum_k^K{e^{x_k}}}\n",
    "$$\n",
    "\n",
    "What this does is squish each input $x_i$ between 0 and 1 and normalizes the values to give you a proper probability distribution where the probabilites sum up to one.\n",
    "\n",
    "> **Exercise:** Implement a function `softmax` that performs the softmax calculation and returns probability distributions for each example in the batch. Note that you'll need to pay attention to the shapes when doing this. If you have a tensor `a` with shape `(64, 10)` and a tensor `b` with shape `(64,)`, doing `a/b` will give you an error because PyTorch will try to do the division across the columns (called broadcasting) but you'll get a size mismatch. The way to think about this is for each of the 64 examples, you only want to divide by one value, the sum in the denominator. So you need `b` to have a shape of `(64, 1)`. This way PyTorch will divide the 10 values in each row of `a` by the one value in each row of `b`. Pay attention to how you take the sum as well. You'll need to define the `dim` keyword in `torch.sum`. Setting `dim=0` takes the sum across the rows while `dim=1` takes the sum across the columns."
   ]
  },
  {
   "cell_type": "code",
   "execution_count": 22,
   "metadata": {},
   "outputs": [
    {
     "name": "stdout",
     "output_type": "stream",
     "text": [
      "torch.Size([64, 10])\n",
      "tensor([1.0000, 1.0000, 1.0000, 1.0000, 1.0000, 1.0000, 1.0000, 1.0000, 1.0000,\n",
      "        1.0000, 1.0000, 1.0000, 1.0000, 1.0000, 1.0000, 1.0000, 1.0000, 1.0000,\n",
      "        1.0000, 1.0000, 1.0000, 1.0000, 1.0000, 1.0000, 1.0000, 1.0000, 1.0000,\n",
      "        1.0000, 1.0000, 1.0000, 1.0000, 1.0000, 1.0000, 1.0000, 1.0000, 1.0000,\n",
      "        1.0000, 1.0000, 1.0000, 1.0000, 1.0000, 1.0000, 1.0000, 1.0000, 1.0000,\n",
      "        1.0000, 1.0000, 1.0000, 1.0000, 1.0000, 1.0000, 1.0000, 1.0000, 1.0000,\n",
      "        1.0000, 1.0000, 1.0000, 1.0000, 1.0000, 1.0000, 1.0000, 1.0000, 1.0000,\n",
      "        1.0000])\n"
     ]
    }
   ],
   "source": [
    "def softmax(x):\n",
    "    exp_x = torch.exp(x)\n",
    "    return exp_x / torch.sum(exp_x,dim=1).view(64,1)\n",
    "    ## TODO: Implement the softmax function here\n",
    "\n",
    "# Here, out should be the output of the network in the previous excercise with shape (64,10)\n",
    "probabilities = softmax(out)\n",
    "\n",
    "# Does it have the right shape? Should be (64, 10)\n",
    "print(probabilities.shape)\n",
    "# Does it sum to 1?\n",
    "print(probabilities.sum(dim=1))"
   ]
  },
  {
   "cell_type": "markdown",
   "metadata": {},
   "source": [
    "## Building networks with PyTorch\n",
    "\n",
    "PyTorch provides a module `nn` that makes building networks much simpler. Here I'll show you how to build the same one as above with 784 inputs, 256 hidden units, 10 output units and a softmax output."
   ]
  },
  {
   "cell_type": "code",
   "execution_count": 26,
   "metadata": {},
   "outputs": [],
   "source": [
    "from torch import nn"
   ]
  },
  {
   "cell_type": "code",
   "execution_count": 27,
   "metadata": {},
   "outputs": [],
   "source": [
    "class Network(nn.Module):\n",
    "    def __init__(self):\n",
    "        super().__init__()\n",
    "        \n",
    "        # Inputs to hidden layer linear transformation\n",
    "        self.hidden = nn.Linear(784, 256)\n",
    "        # Output layer, 10 units - one for each digit\n",
    "        self.output = nn.Linear(256, 10)\n",
    "        \n",
    "        # Define sigmoid activation and softmax output \n",
    "        self.sigmoid = nn.Sigmoid()\n",
    "        self.softmax = nn.Softmax(dim=1)\n",
    "        \n",
    "    def forward(self, x):\n",
    "        # Pass the input tensor through each of our operations\n",
    "        x = self.hidden(x)\n",
    "        x = self.sigmoid(x)\n",
    "        x = self.output(x)\n",
    "        x = self.softmax(x)\n",
    "        \n",
    "        return x"
   ]
  },
  {
   "cell_type": "markdown",
   "metadata": {},
   "source": [
    "Let's go through this bit by bit.\n",
    "\n",
    "```python\n",
    "class Network(nn.Module):\n",
    "```\n",
    "\n",
    "Here we're inheriting from `nn.Module`. Combined with `super().__init__()` this creates a class that tracks the architecture and provides a lot of useful methods and attributes. It is mandatory to inherit from `nn.Module` when you're creating a class for your network. The name of the class itself can be anything.\n",
    "\n",
    "```python\n",
    "self.hidden = nn.Linear(784, 256)\n",
    "```\n",
    "\n",
    "This line creates a module for a linear transformation, $x\\mathbf{W} + b$, with 784 inputs and 256 outputs and assigns it to `self.hidden`. The module automatically creates the weight and bias tensors which we'll use in the `forward` method. You can access the weight and bias tensors once the network (`net`) is created with `net.hidden.weight` and `net.hidden.bias`.\n",
    "\n",
    "```python\n",
    "self.output = nn.Linear(256, 10)\n",
    "```\n",
    "\n",
    "Similarly, this creates another linear transformation with 256 inputs and 10 outputs.\n",
    "\n",
    "```python\n",
    "self.sigmoid = nn.Sigmoid()\n",
    "self.softmax = nn.Softmax(dim=1)\n",
    "```\n",
    "\n",
    "Here I defined operations for the sigmoid activation and softmax output. Setting `dim=1` in `nn.Softmax(dim=1)` calculates softmax across the columns.\n",
    "\n",
    "```python\n",
    "def forward(self, x):\n",
    "```\n",
    "\n",
    "PyTorch networks created with `nn.Module` must have a `forward` method defined. It takes in a tensor `x` and passes it through the operations you defined in the `__init__` method.\n",
    "\n",
    "```python\n",
    "x = self.hidden(x)\n",
    "x = self.sigmoid(x)\n",
    "x = self.output(x)\n",
    "x = self.softmax(x)\n",
    "```\n",
    "\n",
    "Here the input tensor `x` is passed through each operation a reassigned to `x`. We can see that the input tensor goes through the hidden layer, then a sigmoid function, then the output layer, and finally the softmax function. It doesn't matter what you name the variables here, as long as the inputs and outputs of the operations match the network architecture you want to build. The order in which you define things in the `__init__` method doesn't matter, but you'll need to sequence the operations correctly in the `forward` method.\n",
    "\n",
    "Now we can create a `Network` object."
   ]
  },
  {
   "cell_type": "code",
   "execution_count": 28,
   "metadata": {},
   "outputs": [
    {
     "data": {
      "text/plain": [
       "Network(\n",
       "  (hidden): Linear(in_features=784, out_features=256, bias=True)\n",
       "  (output): Linear(in_features=256, out_features=10, bias=True)\n",
       "  (sigmoid): Sigmoid()\n",
       "  (softmax): Softmax()\n",
       ")"
      ]
     },
     "execution_count": 28,
     "metadata": {},
     "output_type": "execute_result"
    }
   ],
   "source": [
    "# Create the network and look at it's text representation\n",
    "model = Network()\n",
    "model"
   ]
  },
  {
   "cell_type": "markdown",
   "metadata": {},
   "source": [
    "You can define the network somewhat more concisely and clearly using the `torch.nn.functional` module. This is the most common way you'll see networks defined as many operations are simple element-wise functions. We normally import this module as `F`, `import torch.nn.functional as F`."
   ]
  },
  {
   "cell_type": "code",
   "execution_count": 30,
   "metadata": {},
   "outputs": [],
   "source": [
    "import torch.nn.functional as F\n",
    "\n",
    "class Network(nn.Module):\n",
    "    def __init__(self):\n",
    "        super().__init__()\n",
    "        # Inputs to hidden layer linear transformation\n",
    "        self.hidden = nn.Linear(784, 256)\n",
    "        # Output layer, 10 units - one for each digit\n",
    "        self.output = nn.Linear(256, 10)\n",
    "        \n",
    "    def forward(self, x):\n",
    "        # Hidden layer with sigmoid activation\n",
    "        x = F.sigmoid(self.hidden(x))\n",
    "        # Output layer with softmax activation\n",
    "        x = F.softmax(self.output(x), dim=1)\n",
    "        \n",
    "        return x"
   ]
  },
  {
   "cell_type": "markdown",
   "metadata": {},
   "source": [
    "### Activation functions\n",
    "\n",
    "So far we've only been looking at the softmax activation, but in general any function can be used as an activation function. The only requirement is that for a network to approximate a non-linear function, the activation functions must be non-linear. Here are a few more examples of common activation functions: Tanh (hyperbolic tangent), and ReLU (rectified linear unit).\n",
    "\n",
    "<img src=\"assets/activation.png\" width=700px>\n",
    "\n",
    "In practice, the ReLU function is used almost exclusively as the activation function for hidden layers."
   ]
  },
  {
   "cell_type": "markdown",
   "metadata": {},
   "source": [
    "### Your Turn to Build a Network\n",
    "\n",
    "<img src=\"assets/mlp_mnist.png\" width=600px>\n",
    "\n",
    "> **Exercise:** Create a network with 784 input units, a hidden layer with 128 units and a ReLU activation, then a hidden layer with 64 units and a ReLU activation, and finally an output layer with a softmax activation as shown above. You can use a ReLU activation with the `nn.ReLU` module or `F.relu` function."
   ]
  },
  {
   "cell_type": "code",
   "execution_count": 43,
   "metadata": {
    "scrolled": true
   },
   "outputs": [
    {
     "name": "stderr",
     "output_type": "stream",
     "text": [
      "/Users/SJC/Documents/practice/.pytorch_env/lib/python3.6/site-packages/ipykernel_launcher.py:18: UserWarning: Implicit dimension choice for softmax has been deprecated. Change the call to include dim=X as an argument.\n"
     ]
    },
    {
     "data": {
      "text/plain": [
       "tensor([[0.1059, 0.0835, 0.0973, 0.1070, 0.0987, 0.0922, 0.0929, 0.0956, 0.0971,\n",
       "         0.1297]], grad_fn=<SoftmaxBackward>)"
      ]
     },
     "execution_count": 43,
     "metadata": {},
     "output_type": "execute_result"
    }
   ],
   "source": [
    "## Your solution here\n",
    "import torch.nn.functional as F\n",
    "\n",
    "class My_Network(nn.Module):\n",
    "    def __init__(self):\n",
    "        super().__init__()\n",
    "        self.n_input_L1 = 784\n",
    "        self.n_input_L2 = 128\n",
    "        self.n_input_L3 = 64\n",
    "        self.n_out = 10\n",
    "        self.L1 = nn.Linear(self.n_input_L1,self.n_input_L2)\n",
    "        self.L2 = nn.Linear(self.n_input_L2,self.n_input_L3)\n",
    "        self.L3 = nn.Linear(self.n_input_L3,self.n_out)\n",
    "        \n",
    "    def forward(self,input):\n",
    "        out_l1 = F.relu(self.L1(input))\n",
    "        out_l2 = F.relu(self.L2(out_l1))\n",
    "        return F.softmax(self.L3(out_l2))\n",
    "    \n",
    "my_net = My_Network()\n",
    "my_net(torch.randn([my_net.n_input_L1]).view([1,-1]))"
   ]
  },
  {
   "cell_type": "markdown",
   "metadata": {},
   "source": [
    "### Initializing weights and biases\n",
    "\n",
    "The weights and such are automatically initialized for you, but it's possible to customize how they are initialized. The weights and biases are tensors attached to the layer you defined, you can get them with `model.fc1.weight` for instance."
   ]
  },
  {
   "cell_type": "code",
   "execution_count": null,
   "metadata": {
    "collapsed": true
   },
   "outputs": [],
   "source": [
    "print(model.fc1.weight)\n",
    "print(model.fc1.bias)"
   ]
  },
  {
   "cell_type": "markdown",
   "metadata": {},
   "source": [
    "For custom initialization, we want to modify these tensors in place. These are actually autograd *Variables*, so we need to get back the actual tensors with `model.fc1.weight.data`. Once we have the tensors, we can fill them with zeros (for biases) or random normal values."
   ]
  },
  {
   "cell_type": "code",
   "execution_count": null,
   "metadata": {
    "collapsed": true
   },
   "outputs": [],
   "source": [
    "# Set biases to all zeros\n",
    "model.fc1.bias.data.fill_(0)"
   ]
  },
  {
   "cell_type": "code",
   "execution_count": null,
   "metadata": {
    "collapsed": true
   },
   "outputs": [],
   "source": [
    "# sample from random normal with standard dev = 0.01\n",
    "model.fc1.weight.data.normal_(std=0.01)"
   ]
  },
  {
   "cell_type": "markdown",
   "metadata": {},
   "source": [
    "### Forward pass\n",
    "\n",
    "Now that we have a network, let's see what happens when we pass in an image."
   ]
  },
  {
   "cell_type": "code",
   "execution_count": null,
   "metadata": {
    "collapsed": true
   },
   "outputs": [],
   "source": [
    "# Grab some data \n",
    "dataiter = iter(trainloader)\n",
    "images, labels = dataiter.next()\n",
    "\n",
    "# Resize images into a 1D vector, new shape is (batch size, color channels, image pixels) \n",
    "images.resize_(64, 1, 784)\n",
    "# or images.resize_(images.shape[0], 1, 784) to automatically get batch size\n",
    "\n",
    "# Forward pass through the network\n",
    "img_idx = 0\n",
    "ps = model.forward(images[img_idx,:])\n",
    "\n",
    "img = images[img_idx]\n",
    "helper.view_classify(img.view(1, 28, 28), ps)"
   ]
  },
  {
   "cell_type": "markdown",
   "metadata": {},
   "source": [
    "As you can see above, our network has basically no idea what this digit is. It's because we haven't trained it yet, all the weights are random!\n",
    "\n",
    "### Using `nn.Sequential`\n",
    "\n",
    "PyTorch provides a convenient way to build networks like this where a tensor is passed sequentially through operations, `nn.Sequential` ([documentation](https://pytorch.org/docs/master/nn.html#torch.nn.Sequential)). Using this to build the equivalent network:"
   ]
  },
  {
   "cell_type": "code",
   "execution_count": null,
   "metadata": {
    "collapsed": true
   },
   "outputs": [],
   "source": [
    "# Hyperparameters for our network\n",
    "input_size = 784\n",
    "hidden_sizes = [128, 64]\n",
    "output_size = 10\n",
    "\n",
    "# Build a feed-forward network\n",
    "model = nn.Sequential(nn.Linear(input_size, hidden_sizes[0]),\n",
    "                      nn.ReLU(),\n",
    "                      nn.Linear(hidden_sizes[0], hidden_sizes[1]),\n",
    "                      nn.ReLU(),\n",
    "                      nn.Linear(hidden_sizes[1], output_size),\n",
    "                      nn.Softmax(dim=1))\n",
    "print(model)\n",
    "\n",
    "# Forward pass through the network and display output\n",
    "images, labels = next(iter(trainloader))\n",
    "images.resize_(images.shape[0], 1, 784)\n",
    "ps = model.forward(images[0,:])\n",
    "helper.view_classify(images[0].view(1, 28, 28), ps)"
   ]
  },
  {
   "cell_type": "markdown",
   "metadata": {},
   "source": [
    "Here our model is the same as before: 784 input units, a hidden layer with 128 units, ReLU activation, 64 unit hidden layer, another ReLU, then the output layer with 10 units, and the softmax output.\n",
    "\n",
    "The operations are availble by passing in the appropriate index. For example, if you want to get first Linear operation and look at the weights, you'd use `model[0]`."
   ]
  },
  {
   "cell_type": "code",
   "execution_count": null,
   "metadata": {
    "collapsed": true
   },
   "outputs": [],
   "source": [
    "print(model[0])\n",
    "model[0].weight"
   ]
  },
  {
   "cell_type": "markdown",
   "metadata": {},
   "source": [
    "You can also pass in an `OrderedDict` to name the individual layers and operations, instead of using incremental integers. Note that dictionary keys must be unique, so _each operation must have a different name_."
   ]
  },
  {
   "cell_type": "code",
   "execution_count": null,
   "metadata": {
    "collapsed": true
   },
   "outputs": [],
   "source": [
    "from collections import OrderedDict\n",
    "model = nn.Sequential(OrderedDict([\n",
    "                      ('fc1', nn.Linear(input_size, hidden_sizes[0])),\n",
    "                      ('relu1', nn.ReLU()),\n",
    "                      ('fc2', nn.Linear(hidden_sizes[0], hidden_sizes[1])),\n",
    "                      ('relu2', nn.ReLU()),\n",
    "                      ('output', nn.Linear(hidden_sizes[1], output_size)),\n",
    "                      ('softmax', nn.Softmax(dim=1))]))\n",
    "model"
   ]
  },
  {
   "cell_type": "markdown",
   "metadata": {},
   "source": [
    "Now you can access layers either by integer or the name"
   ]
  },
  {
   "cell_type": "code",
   "execution_count": null,
   "metadata": {
    "collapsed": true
   },
   "outputs": [],
   "source": [
    "print(model[0])\n",
    "print(model.fc1)"
   ]
  },
  {
   "cell_type": "markdown",
   "metadata": {},
   "source": [
    "In the next notebook, we'll see how we can train a neural network to accuractly predict the numbers appearing in the MNIST images."
   ]
  }
 ],
 "metadata": {
  "kernelspec": {
   "display_name": "Python 3",
   "language": "python",
   "name": "python3"
  },
  "language_info": {
   "codemirror_mode": {
    "name": "ipython",
    "version": 3
   },
   "file_extension": ".py",
   "mimetype": "text/x-python",
   "name": "python",
   "nbconvert_exporter": "python",
   "pygments_lexer": "ipython3",
   "version": "3.6.4"
  }
 },
 "nbformat": 4,
 "nbformat_minor": 2
}
